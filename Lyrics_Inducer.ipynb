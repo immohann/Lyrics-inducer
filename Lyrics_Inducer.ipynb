{
 "cells": [
  {
   "cell_type": "markdown",
   "metadata": {
    "colab_type": "text",
    "id": "CsmibnmbqaBy"
   },
   "source": [
    "# Lyrics-Inducer\n",
    "Is a NLP application used to create/complete the lyrics of a word given as the input, using LSTM in it on Tensorflow."
   ]
  },
  {
   "cell_type": "markdown",
   "metadata": {
    "colab_type": "text",
    "id": "FFt3W80WqaB0"
   },
   "source": [
    "### 1. Aim: \n",
    "The aim is to create a lyrics inducer for any word given as the input and output should be a set of words forming some lyrics of song. "
   ]
  },
  {
   "cell_type": "markdown",
   "metadata": {
    "colab_type": "text",
    "id": "nR6LavrqqaB1"
   },
   "source": [
    "### 2. Setup"
   ]
  },
  {
   "cell_type": "code",
   "execution_count": null,
   "metadata": {
    "colab": {},
    "colab_type": "code",
    "id": "V0qdrJikqaB3"
   },
   "outputs": [],
   "source": [
    "#importing the necessary libraries required\n",
    "from tensorflow.keras.preprocessing.sequence import pad_sequences\n",
    "from tensorflow.keras.layers import Embedding, LSTM, Dense, Dropout, Bidirectional\n",
    "from tensorflow.keras.preprocessing.text import Tokenizer\n",
    "from tensorflow.keras.models import Sequential\n",
    "from tensorflow.keras.optimizers import Adam\n",
    "from tensorflow.keras import regularizers\n",
    "import tensorflow.keras.utils as ku \n",
    "import numpy as np \n",
    "import pandas as pd\n",
    "import matplotlib.pyplot as plt\n",
    "import tensorflow as tf"
   ]
  },
  {
   "cell_type": "markdown",
   "metadata": {
    "colab_type": "text",
    "id": "NxPcE24zqaCA"
   },
   "source": [
    "###  3.1 Import Dataset\n",
    "Our dataset is in (.txt) format, hence we'll load our file and will display the sample lyrics.\n",
    "\n",
    "Songs included:\n",
    "\n",
    "1. bad guy\n",
    "2. the box\n",
    "3. shape of you\n",
    "4. all of me\n",
    "5. failing \n",
    "6. mine bazzi\n",
    "7. heavy\n",
    "8. hot girl bummer\n",
    "9. the take\n",
    "10. myself\n",
    "11. skechers\n",
    "12. do re mi\n",
    "13. moonlight\n",
    "14. blinding lights\n",
    "15. goosebumps\n",
    "16. chal-bombay\n",
    "17. rockstar\n",
    "18. starboy\n",
    "19. cradles\n",
    "20. roxanne\n",
    "\n"
   ]
  },
  {
   "cell_type": "code",
   "execution_count": 18,
   "metadata": {
    "colab": {
     "base_uri": "https://localhost:8080/",
     "height": 54
    },
    "colab_type": "code",
    "id": "aQ26dDVWqaCB",
    "outputId": "9c3022f0-69fb-4112-f7a0-4c63e2dd5f0c"
   },
   "outputs": [
    {
     "data": {
      "text/plain": [
       "'\\ufeffWhite shirt now red, my bloody nose\\nSleepin\\', you\\'re on your tippy toes\\nCreepin\\' around like no one knows\\nThink you\\'re so criminal\\nBruises on both my knees for you\\nDon\\'t say thank you or please\\nI do what I want when I\\'m wanting to\\nMy soul? So cynical\\nSo you\\'re a tough guy\\nLike it really rough guy\\nJust can\\'t get enough guy\\nChest always so puffed guy\\nI\\'m that bad type\\nMake your mama sad type\\nMake your girlfriend mad tight\\nMight seduce your dad type\\nI\\'m the bad guy, duh\\nI\\'m the bad guy\\nI like it when you take control\\nEven if you know that you don\\'t\\nOwn me, I\\'ll let you play the role\\nI\\'ll be your animal\\nMy mommy likes to sing along with me\\nBut she won\\'t sing this song\\nIf she reads all the lyrics\\nShe\\'ll pity the men I know\\nSo you\\'re a tough guy\\nLike it really rough guy\\nJust can\\'t get enough guy\\nChest always so puffed guy\\nI\\'m that bad type\\nMake your mama sad type\\nMake your girlfriend mad tight\\nMight seduce your dad type\\nI\\'m the bad guy, duh\\nI\\'m the bad guy, duh\\nI\\'m only good at being bad, bad\\nI like when you get mad\\nI guess I\\'m pretty glad that you\\'re alone\\nYou said she\\'s scared of me?\\nI mean, I don\\'t see what she sees\\nBut maybe it\\'s \\'cause I\\'m wearing your cologne\\nI\\'m a bad guy\\nI\\'m, I\\'m a bad guy\\nBad guy, bad guy\\nI\\'m a bad\\nPullin\\' out the coupe at the lot\\nTold \\'em \"Fuck 12, fuck SWAT\"\\nBustin\\' all the bales out the box\\nI just hit a lick with the box\\nHad to put the stick in a box, mm\\nPour up the whole damn seal, I\\'ma get lazy\\nI got the mojo-deals, we been trappin\\' like the \\'80\\'s\\nShe sucked a nigga soul, gotta Cash App\\nTold \\'em wipe a nigga nose, say slatt, slatt\\nI won\\'t never sell my soul, and I can back that\\nAnd I really wanna know, where you at, at?\\nI was out back, where the stash at\\nCruise the city in a bulletproof Cadillac (skrrt)\\n\\'Cause I know these niggas after where the bag at\\nGotta move smarter, gotta move harder\\nNiggas tryna get me for my water\\nI lay his ass down on my son or my daughter\\nI had the Draco with me, Dwayne Carter\\n\\'Lotta niggas out here playin\\', ain\\'t'"
      ]
     },
     "execution_count": 18,
     "metadata": {
      "tags": []
     },
     "output_type": "execute_result"
    }
   ],
   "source": [
    "lyric=open('dataset.txt').read()\n",
    "lyric[:2000]\n",
    "#OUTPUT EXAMPLE\n",
    "# I\\'ll give you all my love\\nIf you treat me right, baby, I\\'ll give you everything\\nTalk to me,\n",
    "# I need to hear you need me like I need you\\nFall for me, I wanna know you feel how I feel for you,"
   ]
  },
  {
   "cell_type": "markdown",
   "metadata": {
    "colab_type": "text",
    "id": "ujEBH159qaCK"
   },
   "source": [
    "### 3.2 Preprocessing \n"
   ]
  },
  {
   "cell_type": "markdown",
   "metadata": {
    "colab_type": "text",
    "id": "4EzIKsyYqaCM"
   },
   "source": [
    "#### Converting to lowercase \n",
    "Since the words carries capital letters as well, changing it to lowercase.\n",
    "Also keeoing dataset as per line would be more apt as it'll learn from the sentences formed to yield better performance"
   ]
  },
  {
   "cell_type": "code",
   "execution_count": 19,
   "metadata": {
    "colab": {
     "base_uri": "https://localhost:8080/",
     "height": 357
    },
    "colab_type": "code",
    "id": "q3Lv3zqmqaCN",
    "outputId": "7f273b42-bab9-4670-9368-d86d8e40d87a"
   },
   "outputs": [
    {
     "name": "stdout",
     "output_type": "stream",
     "text": [
      "i mean, i don't see what she sees\n",
      "but maybe it's 'cause i'm wearing your cologne\n",
      "i'm a bad guy\n",
      "i'm, i'm a bad guy\n",
      "bad guy, bad guy\n",
      "i'm a bad\n",
      "pullin' out the coupe at the lot\n",
      "told 'em \"fuck 12, fuck swat\"\n",
      "bustin' all the bales out the box\n",
      "i just hit a lick with the box\n",
      "had to put the stick in a box, mm\n",
      "pour up the whole damn seal, i'ma get lazy\n",
      "i got the mojo-deals, we been trappin' like the '80's\n",
      "she sucked a nigga soul, gotta cash app\n",
      "told 'em wipe a nigga nose, say slatt, slatt\n",
      "i won't never sell my soul, and i can back that\n",
      "and i really wanna know, where you at, at?\n",
      "i was out back, where the stash at\n",
      "cruise the city in a bulletproof cadillac (skrrt)\n",
      "'cause i know these niggas after where the bag at\n"
     ]
    }
   ],
   "source": [
    "#lowercase and split the datset\n",
    "corpus=lyric.lower().split('\\n')\n",
    "for i in range(40,60):\n",
    "    print(corpus[i])"
   ]
  },
  {
   "cell_type": "markdown",
   "metadata": {
    "colab_type": "text",
    "id": "8rn_o1cZqaCU"
   },
   "source": [
    "#### Tokenizing \n",
    "Tokenizer creates the token for each line present in the corpus and measuring the number of the tokens created"
   ]
  },
  {
   "cell_type": "code",
   "execution_count": 20,
   "metadata": {
    "colab": {
     "base_uri": "https://localhost:8080/",
     "height": 34
    },
    "colab_type": "code",
    "id": "BNoe9-6sqaCV",
    "outputId": "98dbfa6c-e8da-42d8-b746-bf32874b7d30"
   },
   "outputs": [
    {
     "data": {
      "text/plain": [
       "1230"
      ]
     },
     "execution_count": 20,
     "metadata": {
      "tags": []
     },
     "output_type": "execute_result"
    }
   ],
   "source": [
    "tokenizer = Tokenizer()\n",
    "tokenizer.fit_on_texts(corpus)\n",
    "total_words = len(tokenizer.word_index) + 1\n",
    "total_words"
   ]
  },
  {
   "cell_type": "markdown",
   "metadata": {
    "colab_type": "text",
    "id": "RpHdgtOOqaCb"
   },
   "source": [
    "#### Creating Sequences\n",
    "create input sequences using list of tokens. Here we are generating tokens for each word and its preceeding word for each line. i.e: \n",
    "\n",
    "_come closer, i'll give you_    \n",
    "\n",
    "will become: \n",
    "\n",
    "[[come],[come,closer],[come,closer,i'll],[come,closer,i'll,give]] "
   ]
  },
  {
   "cell_type": "code",
   "execution_count": 0,
   "metadata": {
    "colab": {},
    "colab_type": "code",
    "id": "k8e-AWcsqaCd"
   },
   "outputs": [],
   "source": [
    "input_sequences = []\n",
    "for line in corpus:\n",
    "\ttoken_list = tokenizer.texts_to_sequences([line])[0]\n",
    "\tfor i in range(1, len(token_list)):\n",
    "\t\tn_gram_sequence = token_list[:i+1]\n",
    "\t\tinput_sequences.append(n_gram_sequence)"
   ]
  },
  {
   "cell_type": "code",
   "execution_count": 22,
   "metadata": {
    "colab": {
     "base_uri": "https://localhost:8080/",
     "height": 357
    },
    "colab_type": "code",
    "id": "8-sLtIARqaCj",
    "outputId": "9dae98d5-6c7e-43b2-963e-bd4efd151f50"
   },
   "outputs": [
    {
     "name": "stdout",
     "output_type": "stream",
     "text": [
      "[609, 610]\n",
      "[609, 610, 64]\n",
      "[609, 610, 64, 451]\n",
      "[609, 610, 64, 451, 5]\n",
      "[609, 610, 64, 451, 5, 611]\n",
      "[609, 610, 64, 451, 5, 611, 274]\n",
      "[612, 37]\n",
      "[612, 37, 9]\n",
      "[612, 37, 9, 10]\n",
      "[612, 37, 9, 10, 613]\n",
      "[612, 37, 9, 10, 613, 614]\n",
      "[615, 72]\n",
      "[615, 72, 14]\n",
      "[615, 72, 14, 33]\n",
      "[615, 72, 14, 33, 80]\n",
      "[615, 72, 14, 33, 80, 616]\n",
      "[178, 37]\n",
      "[178, 37, 19]\n",
      "[178, 37, 19, 617]\n",
      "[618, 9]\n"
     ]
    }
   ],
   "source": [
    "for i in range(20):\n",
    "    print(input_sequences[i])"
   ]
  },
  {
   "cell_type": "markdown",
   "metadata": {
    "colab_type": "text",
    "id": "xsvj-pdbqaCq"
   },
   "source": [
    "#### Padding\n",
    "Since the length of the arrays formed is different hence padding of length of the longest array is required in order to make the array length uniform.\n",
    "\n",
    "We can either do pre-padding or post-padding"
   ]
  },
  {
   "cell_type": "code",
   "execution_count": 23,
   "metadata": {
    "colab": {
     "base_uri": "https://localhost:8080/",
     "height": 153
    },
    "colab_type": "code",
    "id": "PwHkPf7KqaCr",
    "outputId": "9ddd5169-6723-444f-c9b2-0443b9c820e1"
   },
   "outputs": [
    {
     "name": "stdout",
     "output_type": "stream",
     "text": [
      "14\n",
      "[[   0    0    0 ...    0  609  610]\n",
      " [   0    0    0 ...  609  610   64]\n",
      " [   0    0    0 ...  610   64  451]\n",
      " ...\n",
      " [   0    0    0 ...    3 1228    4]\n",
      " [   0    0    0 ... 1228    4  608]\n",
      " [   0    0    0 ...    4  608 1229]]\n"
     ]
    }
   ],
   "source": [
    "max_sequence_len = max([len(x) for x in input_sequences])\n",
    "input_sequences = np.array(pad_sequences(input_sequences, maxlen=max_sequence_len, padding='pre'))\n",
    "print(max_sequence_len)\n",
    "print(input_sequences)"
   ]
  },
  {
   "cell_type": "markdown",
   "metadata": {
    "colab_type": "text",
    "id": "zHQtEltxqaCx"
   },
   "source": [
    "### 4. Building Model\n",
    "As we've formed our data into array form, now we can build a model to process the same.\n"
   ]
  },
  {
   "cell_type": "code",
   "execution_count": 24,
   "metadata": {
    "colab": {
     "base_uri": "https://localhost:8080/",
     "height": 374
    },
    "colab_type": "code",
    "id": "4WVzQ8whqaCy",
    "outputId": "2c48995e-0441-4450-e3df-4ece88469ae2"
   },
   "outputs": [
    {
     "name": "stdout",
     "output_type": "stream",
     "text": [
      "Model: \"sequential_1\"\n",
      "_________________________________________________________________\n",
      "Layer (type)                 Output Shape              Param #   \n",
      "=================================================================\n",
      "embedding (Embedding)        (None, 13, 160)           196800    \n",
      "_________________________________________________________________\n",
      "bidirectional (Bidirectional (None, 13, 400)           577600    \n",
      "_________________________________________________________________\n",
      "dropout (Dropout)            (None, 13, 400)           0         \n",
      "_________________________________________________________________\n",
      "lstm_1 (LSTM)                (None, 100)               200400    \n",
      "_________________________________________________________________\n",
      "dense (Dense)                (None, 615)               62115     \n",
      "_________________________________________________________________\n",
      "dense_1 (Dense)              (None, 1230)              757680    \n",
      "=================================================================\n",
      "Total params: 1,794,595\n",
      "Trainable params: 1,794,595\n",
      "Non-trainable params: 0\n",
      "_________________________________________________________________\n",
      "None\n"
     ]
    }
   ],
   "source": [
    "model = Sequential()\n",
    "model.add(Embedding(1230, 160, input_length=max_sequence_len-1))\n",
    "model.add(Bidirectional(LSTM(200, return_sequences = True)))\n",
    "model.add(Dropout(0.2))\n",
    "model.add(LSTM(100))\n",
    "model.add(Dense(1230/2, activation='relu', kernel_regularizer=regularizers.l2(0.001)))\n",
    "model.add(Dense(1230, activation='softmax'))\n",
    "model.compile(loss='categorical_crossentropy', optimizer='adam', metrics=['accuracy'])\n",
    "print(model.summary())"
   ]
  },
  {
   "cell_type": "code",
   "execution_count": 0,
   "metadata": {
    "colab": {},
    "colab_type": "code",
    "id": "ZjdyiCi1qaC4"
   },
   "outputs": [],
   "source": [
    "# create predictors and label\n",
    "predictors, label = input_sequences[:,:-1],input_sequences[:,-1]\n",
    "\n",
    "label = ku.to_categorical(label, num_classes=total_words)"
   ]
  },
  {
   "cell_type": "markdown",
   "metadata": {
    "colab_type": "text",
    "id": "F4zh6E3wqaDA"
   },
   "source": [
    "### 5. Training the Model\n",
    "Since in this case we don't have any validation set, we don't have to worry about the overfitting of model."
   ]
  },
  {
   "cell_type": "code",
   "execution_count": 26,
   "metadata": {
    "colab": {
     "base_uri": "https://localhost:8080/",
     "height": 1000
    },
    "colab_type": "code",
    "id": "0H63bSTLqaDC",
    "outputId": "92e0dc77-153c-46c2-f88d-60d808e3b5f7"
   },
   "outputs": [
    {
     "name": "stdout",
     "output_type": "stream",
     "text": [
      "Epoch 1/50\n",
      "193/193 [==============================] - 26s 135ms/step - loss: 6.2133 - accuracy: 0.0291\n",
      "Epoch 2/50\n",
      "193/193 [==============================] - 26s 134ms/step - loss: 5.6922 - accuracy: 0.0365\n",
      "Epoch 3/50\n",
      "193/193 [==============================] - 26s 133ms/step - loss: 5.4338 - accuracy: 0.0419\n",
      "Epoch 4/50\n",
      "193/193 [==============================] - 26s 135ms/step - loss: 5.2030 - accuracy: 0.0499\n",
      "Epoch 5/50\n",
      "193/193 [==============================] - 26s 132ms/step - loss: 4.9828 - accuracy: 0.0560\n",
      "Epoch 6/50\n",
      "193/193 [==============================] - 26s 132ms/step - loss: 4.7931 - accuracy: 0.0716\n",
      "Epoch 7/50\n",
      "193/193 [==============================] - 26s 132ms/step - loss: 4.6083 - accuracy: 0.0908\n",
      "Epoch 8/50\n",
      "193/193 [==============================] - 26s 134ms/step - loss: 4.4190 - accuracy: 0.1145\n",
      "Epoch 9/50\n",
      "193/193 [==============================] - 30s 154ms/step - loss: 4.2281 - accuracy: 0.1361\n",
      "Epoch 10/50\n",
      "193/193 [==============================] - 26s 133ms/step - loss: 4.0396 - accuracy: 0.1647\n",
      "Epoch 11/50\n",
      "193/193 [==============================] - 26s 133ms/step - loss: 3.8623 - accuracy: 0.1887\n",
      "Epoch 12/50\n",
      "193/193 [==============================] - 26s 132ms/step - loss: 3.6867 - accuracy: 0.2240\n",
      "Epoch 13/50\n",
      "193/193 [==============================] - 25s 132ms/step - loss: 3.5058 - accuracy: 0.2574\n",
      "Epoch 14/50\n",
      "193/193 [==============================] - 25s 131ms/step - loss: 3.3512 - accuracy: 0.2867\n",
      "Epoch 15/50\n",
      "193/193 [==============================] - 25s 132ms/step - loss: 3.2064 - accuracy: 0.3162\n",
      "Epoch 16/50\n",
      "193/193 [==============================] - 25s 132ms/step - loss: 3.0382 - accuracy: 0.3534\n",
      "Epoch 17/50\n",
      "193/193 [==============================] - 26s 132ms/step - loss: 2.8916 - accuracy: 0.3814\n",
      "Epoch 18/50\n",
      "193/193 [==============================] - 25s 131ms/step - loss: 2.7628 - accuracy: 0.4008\n",
      "Epoch 19/50\n",
      "193/193 [==============================] - 25s 131ms/step - loss: 2.6291 - accuracy: 0.4278\n",
      "Epoch 20/50\n",
      "193/193 [==============================] - 26s 133ms/step - loss: 2.5008 - accuracy: 0.4525\n",
      "Epoch 21/50\n",
      "193/193 [==============================] - 26s 134ms/step - loss: 2.3917 - accuracy: 0.4746\n",
      "Epoch 22/50\n",
      "193/193 [==============================] - 26s 133ms/step - loss: 2.2777 - accuracy: 0.4963\n",
      "Epoch 23/50\n",
      "193/193 [==============================] - 26s 133ms/step - loss: 2.1658 - accuracy: 0.5116\n",
      "Epoch 24/50\n",
      "193/193 [==============================] - 26s 133ms/step - loss: 2.0945 - accuracy: 0.5348\n",
      "Epoch 25/50\n",
      "193/193 [==============================] - 25s 132ms/step - loss: 1.9951 - accuracy: 0.5576\n",
      "Epoch 26/50\n",
      "193/193 [==============================] - 26s 132ms/step - loss: 1.8940 - accuracy: 0.5754\n",
      "Epoch 27/50\n",
      "193/193 [==============================] - 26s 133ms/step - loss: 1.8233 - accuracy: 0.5936\n",
      "Epoch 28/50\n",
      "193/193 [==============================] - 26s 132ms/step - loss: 1.7372 - accuracy: 0.6143\n",
      "Epoch 29/50\n",
      "193/193 [==============================] - 26s 132ms/step - loss: 1.6583 - accuracy: 0.6325\n",
      "Epoch 30/50\n",
      "193/193 [==============================] - 26s 132ms/step - loss: 1.5929 - accuracy: 0.6528\n",
      "Epoch 31/50\n",
      "193/193 [==============================] - 26s 134ms/step - loss: 1.5432 - accuracy: 0.6614\n",
      "Epoch 32/50\n",
      "193/193 [==============================] - 30s 156ms/step - loss: 1.4622 - accuracy: 0.6810\n",
      "Epoch 33/50\n",
      "193/193 [==============================] - 26s 134ms/step - loss: 1.4188 - accuracy: 0.6908\n",
      "Epoch 34/50\n",
      "193/193 [==============================] - 26s 135ms/step - loss: 1.3582 - accuracy: 0.7039\n",
      "Epoch 35/50\n",
      "193/193 [==============================] - 26s 137ms/step - loss: 1.3130 - accuracy: 0.7190\n",
      "Epoch 36/50\n",
      "193/193 [==============================] - 26s 134ms/step - loss: 1.2715 - accuracy: 0.7294\n",
      "Epoch 37/50\n",
      "193/193 [==============================] - 25s 131ms/step - loss: 1.2490 - accuracy: 0.7330\n",
      "Epoch 38/50\n",
      "193/193 [==============================] - 25s 131ms/step - loss: 1.1894 - accuracy: 0.7491\n",
      "Epoch 39/50\n",
      "193/193 [==============================] - 25s 132ms/step - loss: 1.1422 - accuracy: 0.7582\n",
      "Epoch 40/50\n",
      "193/193 [==============================] - 26s 133ms/step - loss: 1.1114 - accuracy: 0.7716\n",
      "Epoch 41/50\n",
      "193/193 [==============================] - 26s 134ms/step - loss: 1.0706 - accuracy: 0.7824\n",
      "Epoch 42/50\n",
      "193/193 [==============================] - 25s 131ms/step - loss: 1.0439 - accuracy: 0.7882\n",
      "Epoch 43/50\n",
      "193/193 [==============================] - 25s 132ms/step - loss: 1.0441 - accuracy: 0.7902\n",
      "Epoch 44/50\n",
      "193/193 [==============================] - 26s 133ms/step - loss: 1.0032 - accuracy: 0.7949\n",
      "Epoch 45/50\n",
      "193/193 [==============================] - 26s 134ms/step - loss: 0.9610 - accuracy: 0.8074\n",
      "Epoch 46/50\n",
      "193/193 [==============================] - 26s 132ms/step - loss: 0.9278 - accuracy: 0.8196\n",
      "Epoch 47/50\n",
      "193/193 [==============================] - 26s 135ms/step - loss: 0.9054 - accuracy: 0.8197\n",
      "Epoch 48/50\n",
      "193/193 [==============================] - 26s 134ms/step - loss: 0.8917 - accuracy: 0.8246\n",
      "Epoch 49/50\n",
      "193/193 [==============================] - 26s 132ms/step - loss: 0.8825 - accuracy: 0.8274\n",
      "Epoch 50/50\n",
      "193/193 [==============================] - 26s 134ms/step - loss: 0.8538 - accuracy: 0.8348\n"
     ]
    }
   ],
   "source": [
    " history = model.fit(predictors, label, epochs=50, verbose=1)"
   ]
  },
  {
   "cell_type": "markdown",
   "metadata": {
    "colab_type": "text",
    "id": "vwFxEvOfqaDI"
   },
   "source": [
    "### 6. Analysing the results\n",
    "By plotting the Training accuraccy and Training loss using matplot-lib, we can infer the model performance"
   ]
  },
  {
   "cell_type": "code",
   "execution_count": 27,
   "metadata": {
    "colab": {
     "base_uri": "https://localhost:8080/",
     "height": 545
    },
    "colab_type": "code",
    "id": "QwjRmtKjqaDO",
    "outputId": "9d05ae52-f174-46cb-9144-1077a4c73270"
   },
   "outputs": [
    {
     "data": {
      "image/png": "[encoded data removed]",
      "text/plain": [
       "<Figure size 432x288 with 1 Axes>"
      ]
     },
     "metadata": {
      "needs_background": "light",
      "tags": []
     },
     "output_type": "display_data"
    },
    {
     "data": {
      "image/png": "[encoded data removed]",
      "text/plain": [
       "<Figure size 432x288 with 1 Axes>"
      ]
     },
     "metadata": {
      "needs_background": "light",
      "tags": []
     },
     "output_type": "display_data"
    }
   ],
   "source": [
    "\n",
    "acc = history.history['accuracy']\n",
    "loss = history.history['loss']\n",
    "\n",
    "epochs = range(len(acc))\n",
    "\n",
    "plt.plot(epochs, acc, 'b', label='Training accuracy')\n",
    "plt.title('Training accuracy')\n",
    "\n",
    "plt.figure()\n",
    "\n",
    "plt.plot(epochs, loss, 'b', label='Training Loss')\n",
    "plt.title('Training loss')\n",
    "plt.legend()\n",
    "\n",
    "plt.show()\n"
   ]
  },
  {
   "cell_type": "markdown",
   "metadata": {
    "colab_type": "text",
    "id": "i7RDR1slqaDX"
   },
   "source": [
    "As we can see that the accuracy has almost reached 82% by 50 epochs and may cross 90% on increasing the number of epochs, and the training loss has reduced down to 0.95 which confirms that the model has performed really well"
   ]
  },
  {
   "cell_type": "markdown",
   "metadata": {
    "colab_type": "text",
    "id": "HE1alRMZqaDZ"
   },
   "source": [
    "### 7. Testing the model"
   ]
  },
  {
   "cell_type": "markdown",
   "metadata": {
    "colab_type": "text",
    "id": "10HMaRdiqaDc"
   },
   "source": [
    "Take the input from user, converting into padded array and printing results"
   ]
  },
  {
   "cell_type": "code",
   "execution_count": 0,
   "metadata": {
    "colab": {},
    "colab_type": "code",
    "id": "i753f4xJqaDe"
   },
   "outputs": [],
   "source": [
    "next_words = 100\n",
    "seed_text = \"my last made me \"\n",
    "  "
   ]
  },
  {
   "cell_type": "code",
   "execution_count": 29,
   "metadata": {
    "colab": {
     "base_uri": "https://localhost:8080/",
     "height": 105
    },
    "colab_type": "code",
    "id": "EMI0hN6zqaDo",
    "outputId": "e3de579f-0fc4-462c-99d6-73278a028f20"
   },
   "outputs": [
    {
     "name": "stdout",
     "output_type": "stream",
     "text": [
      "WARNING:tensorflow:From <ipython-input-29-153178948e2a>:5: Sequential.predict_classes (from tensorflow.python.keras.engine.sequential) is deprecated and will be removed after 2021-01-01.\n",
      "Instructions for updating:\n",
      "Please use instead:* `np.argmax(model.predict(x), axis=-1)`,   if your model does multi-class classification   (e.g. if it uses a `softmax` last-layer activation).* `(model.predict(x) > 0.5).astype(\"int32\")`,   if your model does binary classification   (e.g. if it uses a `sigmoid` last-layer activation).\n",
      "my last made me  feel like i would never try again yeah yeah yeah yeah yeah yeah yeah oh the one that i'm calling out of my love was handmade for somebody like me baby thrifty so go bad guy anthem ta chahta hoon pow ta ta pow pow pow pow pow pow pow pow pow pow pow pow pow pow pow pow pow pow pow pow pow pow pow pow pow pow pow pow pow pow pow pow pow pow pow pow pow pow pow pow pow pow pow pow pow pow pow pow pow pow pow pow pow pow pow pow pow\n"
     ]
    }
   ],
   "source": [
    "\n",
    "for _ in range(next_words):\n",
    "\ttoken_list = tokenizer.texts_to_sequences([seed_text])[0]\n",
    "\ttoken_list = pad_sequences([token_list], maxlen=max_sequence_len-1, padding='pre')\n",
    "\tpredicted = model.predict_classes(token_list, verbose=0)\n",
    "\toutput_word = \"\"\n",
    "\tfor word, index in tokenizer.word_index.items():\n",
    "\t\tif index == predicted:\n",
    "\t\t\toutput_word = word\n",
    "\t\t\tbreak\n",
    "\tseed_text += \" \" + output_word\n",
    "print(seed_text)"
   ]
  },
  {
   "cell_type": "markdown",
   "metadata": {
    "colab_type": "text",
    "id": "bTjlyj2LqaDw"
   },
   "source": [
    "As a result we can see the induced lyrics  from line one, completes the sentence of FAILING and the next one is carried out to the song GOOSEBUMPS. \n",
    "And after that the perdiction made was of a single word as the corous distorted the prediction. "
   ]
  },
  {
   "cell_type": "code",
   "execution_count": 35,
   "metadata": {
    "colab": {
     "base_uri": "https://localhost:8080/",
     "height": 54
    },
    "colab_type": "code",
    "id": "1PwdyU4IqaDy",
    "outputId": "aa725e3c-582c-4a6a-a864-1723d34d1a17"
   },
   "outputs": [
    {
     "name": "stdout",
     "output_type": "stream",
     "text": [
      "chal bombay meri maa se milata hoon tujhe toe se nibhata hoon pow pow pow pow pow pow pow pow haath se khilata hoon pow ta ta pow pow pow pow pow pow pow pow pow pow pow pow pow pow pow pow pow pow pow pow pow pow pow pow pow pow\n"
     ]
    }
   ],
   "source": [
    "next_words = 50\n",
    "seed_text = \"chal bombay meri\"\n",
    "\n",
    "for _ in range(next_words):\n",
    "\ttoken_list = tokenizer.texts_to_sequences([seed_text])[0]\n",
    "\ttoken_list = pad_sequences([token_list], maxlen=max_sequence_len-1, padding='pre')\n",
    "\tpredicted = model.predict_classes(token_list, verbose=0)\n",
    "\toutput_word = \"\"\n",
    "\tfor word, index in tokenizer.word_index.items():\n",
    "\t\tif index == predicted:\n",
    "\t\t\toutput_word = word\n",
    "\t\t\tbreak\n",
    "\tseed_text += \" \" + output_word\n",
    "print(seed_text)\n",
    "  "
   ]
  },
  {
   "cell_type": "code",
   "execution_count": 31,
   "metadata": {
    "colab": {
     "base_uri": "https://localhost:8080/",
     "height": 54
    },
    "colab_type": "code",
    "id": "ra-wH9aIqaEI",
    "outputId": "1951851a-9e0f-40b2-d084-2d8c324262c5"
   },
   "outputs": [
    {
     "name": "stdout",
     "output_type": "stream",
     "text": [
      "they say where my whole arm in the pool horse ah lookin' the ride yeah i fill up on a taxi to just just gon' drive me mad much fuck you and you baby you love sticking and my girl baby i love you love you and you to a mood baby\n"
     ]
    }
   ],
   "source": [
    "# trying random samples:\n",
    "\n",
    "next_words = 50\n",
    "seed_text = \"they say\"\n",
    "\n",
    "for _ in range(next_words):\n",
    "\ttoken_list = tokenizer.texts_to_sequences([seed_text])[0]\n",
    "\ttoken_list = pad_sequences([token_list], maxlen=max_sequence_len-1, padding='pre')\n",
    "\tpredicted = model.predict_classes(token_list, verbose=0)\n",
    "\toutput_word = \"\"\n",
    "\tfor word, index in tokenizer.word_index.items():\n",
    "\t\tif index == predicted:\n",
    "\t\t\toutput_word = word\n",
    "\t\t\tbreak\n",
    "\tseed_text += \" \" + output_word\n",
    "print(seed_text)\n",
    "  "
   ]
  },
  {
   "cell_type": "markdown",
   "metadata": {
    "colab_type": "text",
    "id": "gVLLWonBqaEQ"
   },
   "source": [
    "And the results are pretty much good ;)"
   ]
  },
  {
   "cell_type": "markdown",
   "metadata": {
    "colab_type": "text",
    "id": "T1mh6vbtqaER"
   },
   "source": [
    "### 8. Saving the Model"
   ]
  },
  {
   "cell_type": "code",
   "execution_count": 0,
   "metadata": {
    "colab": {},
    "colab_type": "code",
    "id": "BgikTS3S3wrI"
   },
   "outputs": [],
   "source": [
    "import time\n",
    "saved_model_path = \"./{}.h5\".format(int(time.time()))\n",
    "\n",
    "model.save(saved_model_path)"
   ]
  },
  {
   "cell_type": "code",
   "execution_count": 0,
   "metadata": {
    "colab": {},
    "colab_type": "code",
    "id": "qHc27Odi3z_0"
   },
   "outputs": [],
   "source": [
    "!tensorflowjs_converter --input_format=keras {saved_model_path} ./"
   ]
  },
  {
   "cell_type": "markdown",
   "metadata": {
    "colab_type": "text",
    "id": "EbDj9scEqaEX"
   },
   "source": [
    "### 9. Loading the trained model (if needed)"
   ]
  },
  {
   "cell_type": "code",
   "execution_count": null,
   "metadata": {
    "colab": {
     "base_uri": "https://localhost:8080/",
     "height": 34
    },
    "colab_type": "code",
    "id": "jEjIjKOeqaEY",
    "outputId": "375ff2fb-214f-4a33-c0b1-6b35d930fa70"
   },
   "outputs": [],
   "source": [
    "# !pip install h5py\n",
    "# import tensorflow as tf\n",
    "# load json and create model\n",
    "json_file = open('model.json', 'r')\n",
    "loaded_model_json = json_file.read()\n",
    "json_file.close()\n",
    "loaded_model = tf.keras.models.model_from_json(loaded_model_json)\n",
    "# load weights into new model\n",
    "loaded_model.load_weights(\"model.h5\")\n",
    "print(\"Loaded model from disk\")"
   ]
  },
  {
   "cell_type": "code",
   "execution_count": 40,
   "metadata": {
    "colab": {
     "base_uri": "https://localhost:8080/",
     "height": 357
    },
    "colab_type": "code",
    "id": "4UqCopT7qaEd",
    "outputId": "048aef68-3080-4ca9-a76f-2f02968664dc"
   },
   "outputs": [
    {
     "name": "stdout",
     "output_type": "stream",
     "text": [
      "Model: \"sequential_1\"\n",
      "_________________________________________________________________\n",
      "Layer (type)                 Output Shape              Param #   \n",
      "=================================================================\n",
      "embedding (Embedding)        (None, 13, 160)           196800    \n",
      "_________________________________________________________________\n",
      "bidirectional (Bidirectional (None, 13, 400)           577600    \n",
      "_________________________________________________________________\n",
      "dropout (Dropout)            (None, 13, 400)           0         \n",
      "_________________________________________________________________\n",
      "lstm_1 (LSTM)                (None, 100)               200400    \n",
      "_________________________________________________________________\n",
      "dense (Dense)                (None, 615)               62115     \n",
      "_________________________________________________________________\n",
      "dense_1 (Dense)              (None, 1230)              757680    \n",
      "=================================================================\n",
      "Total params: 1,794,595\n",
      "Trainable params: 1,794,595\n",
      "Non-trainable params: 0\n",
      "_________________________________________________________________\n"
     ]
    }
   ],
   "source": [
    "loaded_model.summary()"
   ]
  },
  {
   "cell_type": "markdown",
   "metadata": {
    "colab_type": "text",
    "id": "SoA6dIPnqaEj"
   },
   "source": [
    "### 10. Conclusion \n",
    "Hence, we can say that we sucessfully built the Lyrics-Inducer using NLP and LSTM, the model is more like predicting the NEXT WORD according to previous set of words, hence not much accurate for predicting longer sentences. \n",
    "And there are plenty of applications possible using the LSTM and NLP, do try."
   ]
  },
  {
   "cell_type": "code",
   "execution_count": 0,
   "metadata": {
    "colab": {},
    "colab_type": "code",
    "id": "OZf3YI2KqaEk"
   },
   "outputs": [],
   "source": []
  }
 ],
 "metadata": {
  "colab": {
   "name": "Lyrics-Inducer.ipynb",
   "provenance": []
  },
  "kernelspec": {
   "display_name": "Python 3",
   "language": "python",
   "name": "python3"
  },
  "language_info": {
   "codemirror_mode": {
    "name": "ipython",
    "version": 3
   },
   "file_extension": ".py",
   "mimetype": "text/x-python",
   "name": "python",
   "nbconvert_exporter": "python",
   "pygments_lexer": "ipython3",
   "version": "3.6.9"
  }
 },
 "nbformat": 4,
 "nbformat_minor": 1
}
